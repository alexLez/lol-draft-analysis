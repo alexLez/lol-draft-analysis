{
 "cells": [
  {
   "cell_type": "code",
   "execution_count": 1,
   "metadata": {},
   "outputs": [],
   "source": [
    "import player_model \n",
    "import draft_model \n",
    "import util\n",
    "import final_model\n",
    "from sklearn.metrics import brier_score_loss as brier_score\n",
    "from sklearn.metrics import accuracy_score as acc_score\n",
    "from sklearn.model_selection import train_test_split as tts\n",
    "import pandas as pd\n",
    "import numpy as np\n",
    "import importlib\n",
    "import matplotlib.pyplot as plt\n",
    "%matplotlib inline\n",
    "np.random.seed(0)"
   ]
  },
  {
   "cell_type": "markdown",
   "metadata": {},
   "source": [
    "Load match data sourced from oracles elixir, and merge with player model information"
   ]
  },
  {
   "cell_type": "code",
   "execution_count": 2,
   "metadata": {},
   "outputs": [
    {
     "data": {
      "text/html": [
       "<div>\n",
       "<style scoped>\n",
       "    .dataframe tbody tr th:only-of-type {\n",
       "        vertical-align: middle;\n",
       "    }\n",
       "\n",
       "    .dataframe tbody tr th {\n",
       "        vertical-align: top;\n",
       "    }\n",
       "\n",
       "    .dataframe thead th {\n",
       "        text-align: right;\n",
       "    }\n",
       "</style>\n",
       "<table border=\"1\" class=\"dataframe\">\n",
       "  <thead>\n",
       "    <tr style=\"text-align: right;\">\n",
       "      <th></th>\n",
       "      <th>teamname</th>\n",
       "      <th>opponent</th>\n",
       "      <th>date</th>\n",
       "      <th>league</th>\n",
       "      <th>result</th>\n",
       "      <th>top_dif</th>\n",
       "      <th>jng_dif</th>\n",
       "      <th>mid_dif</th>\n",
       "      <th>bot_dif</th>\n",
       "      <th>sup_dif</th>\n",
       "    </tr>\n",
       "  </thead>\n",
       "  <tbody>\n",
       "    <tr>\n",
       "      <th>0</th>\n",
       "      <td>ROX Tigers</td>\n",
       "      <td>KT Rolster</td>\n",
       "      <td>2017-01-17 07:10:23</td>\n",
       "      <td>LCK</td>\n",
       "      <td>0</td>\n",
       "      <td>-2.344660</td>\n",
       "      <td>-2.409820</td>\n",
       "      <td>-0.712900</td>\n",
       "      <td>-2.300489</td>\n",
       "      <td>-1.702800</td>\n",
       "    </tr>\n",
       "    <tr>\n",
       "      <th>1</th>\n",
       "      <td>KT Rolster</td>\n",
       "      <td>ROX Tigers</td>\n",
       "      <td>2017-01-17 07:10:23</td>\n",
       "      <td>LCK</td>\n",
       "      <td>1</td>\n",
       "      <td>2.344660</td>\n",
       "      <td>2.409820</td>\n",
       "      <td>0.712900</td>\n",
       "      <td>2.300489</td>\n",
       "      <td>1.702800</td>\n",
       "    </tr>\n",
       "    <tr>\n",
       "      <th>2</th>\n",
       "      <td>Longzhu Gaming</td>\n",
       "      <td>Samsung Galaxy</td>\n",
       "      <td>2017-01-17 10:04:07</td>\n",
       "      <td>LCK</td>\n",
       "      <td>1</td>\n",
       "      <td>0.248975</td>\n",
       "      <td>0.482163</td>\n",
       "      <td>0.973789</td>\n",
       "      <td>0.527127</td>\n",
       "      <td>1.420935</td>\n",
       "    </tr>\n",
       "    <tr>\n",
       "      <th>3</th>\n",
       "      <td>Samsung Galaxy</td>\n",
       "      <td>Longzhu Gaming</td>\n",
       "      <td>2017-01-17 10:04:07</td>\n",
       "      <td>LCK</td>\n",
       "      <td>0</td>\n",
       "      <td>-0.248975</td>\n",
       "      <td>-0.482163</td>\n",
       "      <td>-0.973789</td>\n",
       "      <td>-0.527127</td>\n",
       "      <td>-1.420935</td>\n",
       "    </tr>\n",
       "    <tr>\n",
       "      <th>4</th>\n",
       "      <td>bbq Olivers</td>\n",
       "      <td>MVP</td>\n",
       "      <td>2017-01-18 10:06:32</td>\n",
       "      <td>LCK</td>\n",
       "      <td>0</td>\n",
       "      <td>0.256832</td>\n",
       "      <td>-0.049755</td>\n",
       "      <td>0.121897</td>\n",
       "      <td>-1.606031</td>\n",
       "      <td>-0.198971</td>\n",
       "    </tr>\n",
       "  </tbody>\n",
       "</table>\n",
       "</div>"
      ],
      "text/plain": [
       "         teamname        opponent                 date league  result  \\\n",
       "0      ROX Tigers      KT Rolster  2017-01-17 07:10:23    LCK       0   \n",
       "1      KT Rolster      ROX Tigers  2017-01-17 07:10:23    LCK       1   \n",
       "2  Longzhu Gaming  Samsung Galaxy  2017-01-17 10:04:07    LCK       1   \n",
       "3  Samsung Galaxy  Longzhu Gaming  2017-01-17 10:04:07    LCK       0   \n",
       "4     bbq Olivers             MVP  2017-01-18 10:06:32    LCK       0   \n",
       "\n",
       "    top_dif   jng_dif   mid_dif   bot_dif   sup_dif  \n",
       "0 -2.344660 -2.409820 -0.712900 -2.300489 -1.702800  \n",
       "1  2.344660  2.409820  0.712900  2.300489  1.702800  \n",
       "2  0.248975  0.482163  0.973789  0.527127  1.420935  \n",
       "3 -0.248975 -0.482163 -0.973789 -0.527127 -1.420935  \n",
       "4  0.256832 -0.049755  0.121897 -1.606031 -0.198971  "
      ]
     },
     "execution_count": 2,
     "metadata": {},
     "output_type": "execute_result"
    }
   ],
   "source": [
    "match_data = util.load_match_data()\n",
    "util.print_match_and_player_data(match_data)"
   ]
  },
  {
   "cell_type": "markdown",
   "metadata": {},
   "source": [
    "Fit the player model using the player differences. The logistic regression that uses draft information also interacts whether champions are most impactful in the early, mid, or late game."
   ]
  },
  {
   "cell_type": "code",
   "execution_count": 3,
   "metadata": {},
   "outputs": [
    {
     "data": {
      "text/html": [
       "<div>\n",
       "<style scoped>\n",
       "    .dataframe tbody tr th:only-of-type {\n",
       "        vertical-align: middle;\n",
       "    }\n",
       "\n",
       "    .dataframe tbody tr th {\n",
       "        vertical-align: top;\n",
       "    }\n",
       "\n",
       "    .dataframe thead th {\n",
       "        text-align: right;\n",
       "    }\n",
       "</style>\n",
       "<table border=\"1\" class=\"dataframe\">\n",
       "  <thead>\n",
       "    <tr style=\"text-align: right;\">\n",
       "      <th></th>\n",
       "      <th>teamname</th>\n",
       "      <th>opponent</th>\n",
       "      <th>post_draft_top_lead_prob</th>\n",
       "      <th>post_draft_mid_lead_prob</th>\n",
       "      <th>post_draft_bot_lead_prob</th>\n",
       "      <th>draft_agnostic_top_lead_prob</th>\n",
       "      <th>draft_agnostic_mid_lead_prob</th>\n",
       "      <th>draft_agnostic_bot_lead_prob</th>\n",
       "    </tr>\n",
       "  </thead>\n",
       "  <tbody>\n",
       "    <tr>\n",
       "      <th>0</th>\n",
       "      <td>ROX Tigers</td>\n",
       "      <td>KT Rolster</td>\n",
       "      <td>0.350542</td>\n",
       "      <td>0.353701</td>\n",
       "      <td>0.302976</td>\n",
       "      <td>0.326408</td>\n",
       "      <td>0.395956</td>\n",
       "      <td>0.323555</td>\n",
       "    </tr>\n",
       "    <tr>\n",
       "      <th>1</th>\n",
       "      <td>KT Rolster</td>\n",
       "      <td>ROX Tigers</td>\n",
       "      <td>0.660396</td>\n",
       "      <td>0.647507</td>\n",
       "      <td>0.698018</td>\n",
       "      <td>0.670732</td>\n",
       "      <td>0.604044</td>\n",
       "      <td>0.678149</td>\n",
       "    </tr>\n",
       "    <tr>\n",
       "      <th>2</th>\n",
       "      <td>Longzhu Gaming</td>\n",
       "      <td>Samsung Galaxy</td>\n",
       "      <td>0.511512</td>\n",
       "      <td>0.563308</td>\n",
       "      <td>0.612205</td>\n",
       "      <td>0.520898</td>\n",
       "      <td>0.571404</td>\n",
       "      <td>0.562983</td>\n",
       "    </tr>\n",
       "    <tr>\n",
       "      <th>3</th>\n",
       "      <td>Samsung Galaxy</td>\n",
       "      <td>Longzhu Gaming</td>\n",
       "      <td>0.481604</td>\n",
       "      <td>0.439663</td>\n",
       "      <td>0.404171</td>\n",
       "      <td>0.475864</td>\n",
       "      <td>0.428596</td>\n",
       "      <td>0.438935</td>\n",
       "    </tr>\n",
       "    <tr>\n",
       "      <th>4</th>\n",
       "      <td>bbq Olivers</td>\n",
       "      <td>MVP</td>\n",
       "      <td>0.511983</td>\n",
       "      <td>0.507584</td>\n",
       "      <td>0.382508</td>\n",
       "      <td>0.513222</td>\n",
       "      <td>0.506165</td>\n",
       "      <td>0.415071</td>\n",
       "    </tr>\n",
       "  </tbody>\n",
       "</table>\n",
       "</div>"
      ],
      "text/plain": [
       "         teamname        opponent  post_draft_top_lead_prob  \\\n",
       "0      ROX Tigers      KT Rolster                  0.350542   \n",
       "1      KT Rolster      ROX Tigers                  0.660396   \n",
       "2  Longzhu Gaming  Samsung Galaxy                  0.511512   \n",
       "3  Samsung Galaxy  Longzhu Gaming                  0.481604   \n",
       "4     bbq Olivers             MVP                  0.511983   \n",
       "\n",
       "   post_draft_mid_lead_prob  post_draft_bot_lead_prob  \\\n",
       "0                  0.353701                  0.302976   \n",
       "1                  0.647507                  0.698018   \n",
       "2                  0.563308                  0.612205   \n",
       "3                  0.439663                  0.404171   \n",
       "4                  0.507584                  0.382508   \n",
       "\n",
       "   draft_agnostic_top_lead_prob  draft_agnostic_mid_lead_prob  \\\n",
       "0                      0.326408                      0.395956   \n",
       "1                      0.670732                      0.604044   \n",
       "2                      0.520898                      0.571404   \n",
       "3                      0.475864                      0.428596   \n",
       "4                      0.513222                      0.506165   \n",
       "\n",
       "   draft_agnostic_bot_lead_prob  \n",
       "0                      0.323555  \n",
       "1                      0.678149  \n",
       "2                      0.562983  \n",
       "3                      0.438935  \n",
       "4                      0.415071  "
      ]
     },
     "execution_count": 3,
     "metadata": {},
     "output_type": "execute_result"
    }
   ],
   "source": [
    "\n",
    "player_model.calculate_positional_differences(match_data)\n",
    "player_model.fit_player_model(match_data, use_draft_info=False)\n",
    "player_model.fit_player_model(match_data, use_draft_info=True)\n",
    "util.print_player_lead_probabilities(match_data)"
   ]
  },
  {
   "cell_type": "markdown",
   "metadata": {},
   "source": [
    "Map each champion to its reduced role form. For each team sum over all comprising champions."
   ]
  },
  {
   "cell_type": "code",
   "execution_count": 4,
   "metadata": {},
   "outputs": [
    {
     "data": {
      "text/html": [
       "<div>\n",
       "<style scoped>\n",
       "    .dataframe tbody tr th:only-of-type {\n",
       "        vertical-align: middle;\n",
       "    }\n",
       "\n",
       "    .dataframe tbody tr th {\n",
       "        vertical-align: top;\n",
       "    }\n",
       "\n",
       "    .dataframe thead th {\n",
       "        text-align: right;\n",
       "    }\n",
       "</style>\n",
       "<table border=\"1\" class=\"dataframe\">\n",
       "  <thead>\n",
       "    <tr style=\"text-align: right;\">\n",
       "      <th></th>\n",
       "      <th>id</th>\n",
       "      <th>team_Dives</th>\n",
       "      <th>team_Tanks</th>\n",
       "      <th>team_Damages</th>\n",
       "      <th>team_Enchanters</th>\n",
       "      <th>team_Picks</th>\n",
       "      <th>team_Pokes</th>\n",
       "      <th>team_Engages</th>\n",
       "      <th>team_Splitpushs</th>\n",
       "      <th>early_game</th>\n",
       "      <th>mid_game</th>\n",
       "      <th>late_game</th>\n",
       "      <th>ap</th>\n",
       "      <th>ad</th>\n",
       "      <th>no_damage_type</th>\n",
       "    </tr>\n",
       "  </thead>\n",
       "  <tbody>\n",
       "    <tr>\n",
       "      <th>0</th>\n",
       "      <td>0.0</td>\n",
       "      <td>0.0</td>\n",
       "      <td>1.0</td>\n",
       "      <td>2.0</td>\n",
       "      <td>0.0</td>\n",
       "      <td>1.0</td>\n",
       "      <td>0.0</td>\n",
       "      <td>1.0</td>\n",
       "      <td>0.0</td>\n",
       "      <td>0.0</td>\n",
       "      <td>3.0</td>\n",
       "      <td>2.0</td>\n",
       "      <td>2.0</td>\n",
       "      <td>2.0</td>\n",
       "      <td>0.0</td>\n",
       "    </tr>\n",
       "    <tr>\n",
       "      <th>1</th>\n",
       "      <td>1.0</td>\n",
       "      <td>0.0</td>\n",
       "      <td>0.0</td>\n",
       "      <td>1.0</td>\n",
       "      <td>0.0</td>\n",
       "      <td>2.0</td>\n",
       "      <td>1.0</td>\n",
       "      <td>1.0</td>\n",
       "      <td>0.0</td>\n",
       "      <td>1.0</td>\n",
       "      <td>3.0</td>\n",
       "      <td>1.0</td>\n",
       "      <td>2.0</td>\n",
       "      <td>2.0</td>\n",
       "      <td>0.0</td>\n",
       "    </tr>\n",
       "    <tr>\n",
       "      <th>2</th>\n",
       "      <td>2.0</td>\n",
       "      <td>1.0</td>\n",
       "      <td>1.0</td>\n",
       "      <td>1.0</td>\n",
       "      <td>0.0</td>\n",
       "      <td>1.0</td>\n",
       "      <td>1.0</td>\n",
       "      <td>0.0</td>\n",
       "      <td>0.0</td>\n",
       "      <td>2.0</td>\n",
       "      <td>2.0</td>\n",
       "      <td>1.0</td>\n",
       "      <td>2.0</td>\n",
       "      <td>3.0</td>\n",
       "      <td>0.0</td>\n",
       "    </tr>\n",
       "    <tr>\n",
       "      <th>3</th>\n",
       "      <td>3.0</td>\n",
       "      <td>0.0</td>\n",
       "      <td>1.0</td>\n",
       "      <td>2.0</td>\n",
       "      <td>0.0</td>\n",
       "      <td>1.0</td>\n",
       "      <td>1.0</td>\n",
       "      <td>0.0</td>\n",
       "      <td>0.0</td>\n",
       "      <td>2.0</td>\n",
       "      <td>1.0</td>\n",
       "      <td>2.0</td>\n",
       "      <td>2.0</td>\n",
       "      <td>2.0</td>\n",
       "      <td>0.0</td>\n",
       "    </tr>\n",
       "    <tr>\n",
       "      <th>4</th>\n",
       "      <td>4.0</td>\n",
       "      <td>0.0</td>\n",
       "      <td>0.0</td>\n",
       "      <td>1.0</td>\n",
       "      <td>0.0</td>\n",
       "      <td>1.0</td>\n",
       "      <td>1.0</td>\n",
       "      <td>2.0</td>\n",
       "      <td>0.0</td>\n",
       "      <td>1.0</td>\n",
       "      <td>3.0</td>\n",
       "      <td>1.0</td>\n",
       "      <td>2.0</td>\n",
       "      <td>2.0</td>\n",
       "      <td>0.0</td>\n",
       "    </tr>\n",
       "  </tbody>\n",
       "</table>\n",
       "</div>"
      ],
      "text/plain": [
       "    id  team_Dives  team_Tanks  team_Damages  team_Enchanters  team_Picks  \\\n",
       "0  0.0         0.0         1.0           2.0              0.0         1.0   \n",
       "1  1.0         0.0         0.0           1.0              0.0         2.0   \n",
       "2  2.0         1.0         1.0           1.0              0.0         1.0   \n",
       "3  3.0         0.0         1.0           2.0              0.0         1.0   \n",
       "4  4.0         0.0         0.0           1.0              0.0         1.0   \n",
       "\n",
       "   team_Pokes  team_Engages  team_Splitpushs  early_game  mid_game  late_game  \\\n",
       "0         0.0           1.0              0.0         0.0       3.0        2.0   \n",
       "1         1.0           1.0              0.0         1.0       3.0        1.0   \n",
       "2         1.0           0.0              0.0         2.0       2.0        1.0   \n",
       "3         1.0           0.0              0.0         2.0       1.0        2.0   \n",
       "4         1.0           2.0              0.0         1.0       3.0        1.0   \n",
       "\n",
       "    ap   ad  no_damage_type  \n",
       "0  2.0  2.0             0.0  \n",
       "1  2.0  2.0             0.0  \n",
       "2  2.0  3.0             0.0  \n",
       "3  2.0  2.0             0.0  \n",
       "4  2.0  2.0             0.0  "
      ]
     },
     "execution_count": 4,
     "metadata": {},
     "output_type": "execute_result"
    }
   ],
   "source": [
    "champion_mapping = draft_model.load_champion_mapping()\n",
    "match_drafts = draft_model.reduce_team_drafts(match_data, champion_mapping)\n",
    "util.print_team_reduced_drafts(match_drafts)"
   ]
  },
  {
   "cell_type": "markdown",
   "metadata": {},
   "source": [
    "Cluster all teams' drafts into 7 clusters."
   ]
  },
  {
   "cell_type": "code",
   "execution_count": 5,
   "metadata": {},
   "outputs": [
    {
     "data": {
      "text/html": [
       "<div>\n",
       "<style scoped>\n",
       "    .dataframe tbody tr th:only-of-type {\n",
       "        vertical-align: middle;\n",
       "    }\n",
       "\n",
       "    .dataframe tbody tr th {\n",
       "        vertical-align: top;\n",
       "    }\n",
       "\n",
       "    .dataframe thead th {\n",
       "        text-align: right;\n",
       "    }\n",
       "</style>\n",
       "<table border=\"1\" class=\"dataframe\">\n",
       "  <thead>\n",
       "    <tr style=\"text-align: right;\">\n",
       "      <th></th>\n",
       "      <th>team_Dives</th>\n",
       "      <th>team_Tanks</th>\n",
       "      <th>team_Damages</th>\n",
       "      <th>team_Enchanters</th>\n",
       "      <th>team_Picks</th>\n",
       "      <th>team_Pokes</th>\n",
       "      <th>team_Engages</th>\n",
       "      <th>team_Splitpushs</th>\n",
       "      <th>early_game</th>\n",
       "      <th>mid_game</th>\n",
       "      <th>late_game</th>\n",
       "      <th>no_damage_type</th>\n",
       "    </tr>\n",
       "    <tr>\n",
       "      <th>team_comp</th>\n",
       "      <th></th>\n",
       "      <th></th>\n",
       "      <th></th>\n",
       "      <th></th>\n",
       "      <th></th>\n",
       "      <th></th>\n",
       "      <th></th>\n",
       "      <th></th>\n",
       "      <th></th>\n",
       "      <th></th>\n",
       "      <th></th>\n",
       "      <th></th>\n",
       "    </tr>\n",
       "  </thead>\n",
       "  <tbody>\n",
       "    <tr>\n",
       "      <th>0</th>\n",
       "      <td>0.332481</td>\n",
       "      <td>1.859518</td>\n",
       "      <td>1.249726</td>\n",
       "      <td>0.036536</td>\n",
       "      <td>0.297589</td>\n",
       "      <td>0.794118</td>\n",
       "      <td>0.422178</td>\n",
       "      <td>0.007855</td>\n",
       "      <td>0.925100</td>\n",
       "      <td>1.679028</td>\n",
       "      <td>2.395871</td>\n",
       "      <td>0.0</td>\n",
       "    </tr>\n",
       "    <tr>\n",
       "      <th>1</th>\n",
       "      <td>0.343992</td>\n",
       "      <td>0.488372</td>\n",
       "      <td>1.989503</td>\n",
       "      <td>0.026001</td>\n",
       "      <td>0.296673</td>\n",
       "      <td>0.261789</td>\n",
       "      <td>1.590278</td>\n",
       "      <td>0.003391</td>\n",
       "      <td>1.242087</td>\n",
       "      <td>1.800226</td>\n",
       "      <td>1.957687</td>\n",
       "      <td>0.0</td>\n",
       "    </tr>\n",
       "    <tr>\n",
       "      <th>2</th>\n",
       "      <td>0.517432</td>\n",
       "      <td>0.691560</td>\n",
       "      <td>1.255477</td>\n",
       "      <td>1.067822</td>\n",
       "      <td>0.290913</td>\n",
       "      <td>0.594018</td>\n",
       "      <td>0.543723</td>\n",
       "      <td>0.039055</td>\n",
       "      <td>1.514384</td>\n",
       "      <td>1.268242</td>\n",
       "      <td>2.217375</td>\n",
       "      <td>0.0</td>\n",
       "    </tr>\n",
       "    <tr>\n",
       "      <th>3</th>\n",
       "      <td>0.533745</td>\n",
       "      <td>0.572964</td>\n",
       "      <td>0.619749</td>\n",
       "      <td>0.161855</td>\n",
       "      <td>1.022297</td>\n",
       "      <td>1.156878</td>\n",
       "      <td>0.854669</td>\n",
       "      <td>0.077842</td>\n",
       "      <td>2.372686</td>\n",
       "      <td>1.680470</td>\n",
       "      <td>0.946845</td>\n",
       "      <td>0.0</td>\n",
       "    </tr>\n",
       "    <tr>\n",
       "      <th>4</th>\n",
       "      <td>1.235379</td>\n",
       "      <td>0.765526</td>\n",
       "      <td>1.044541</td>\n",
       "      <td>0.094333</td>\n",
       "      <td>0.350172</td>\n",
       "      <td>0.474742</td>\n",
       "      <td>0.981894</td>\n",
       "      <td>0.053413</td>\n",
       "      <td>1.077494</td>\n",
       "      <td>3.089625</td>\n",
       "      <td>0.832881</td>\n",
       "      <td>0.0</td>\n",
       "    </tr>\n",
       "    <tr>\n",
       "      <th>5</th>\n",
       "      <td>0.548780</td>\n",
       "      <td>1.295122</td>\n",
       "      <td>1.079268</td>\n",
       "      <td>0.413415</td>\n",
       "      <td>0.201220</td>\n",
       "      <td>0.451220</td>\n",
       "      <td>0.806098</td>\n",
       "      <td>0.204878</td>\n",
       "      <td>1.113415</td>\n",
       "      <td>1.926829</td>\n",
       "      <td>1.959756</td>\n",
       "      <td>1.0</td>\n",
       "    </tr>\n",
       "    <tr>\n",
       "      <th>6</th>\n",
       "      <td>0.240100</td>\n",
       "      <td>0.748791</td>\n",
       "      <td>1.081706</td>\n",
       "      <td>0.213223</td>\n",
       "      <td>0.383444</td>\n",
       "      <td>0.554202</td>\n",
       "      <td>0.741444</td>\n",
       "      <td>1.037090</td>\n",
       "      <td>1.001075</td>\n",
       "      <td>1.802544</td>\n",
       "      <td>2.196381</td>\n",
       "      <td>0.0</td>\n",
       "    </tr>\n",
       "  </tbody>\n",
       "</table>\n",
       "</div>"
      ],
      "text/plain": [
       "           team_Dives  team_Tanks  team_Damages  team_Enchanters  team_Picks  \\\n",
       "team_comp                                                                      \n",
       "0            0.332481    1.859518      1.249726         0.036536    0.297589   \n",
       "1            0.343992    0.488372      1.989503         0.026001    0.296673   \n",
       "2            0.517432    0.691560      1.255477         1.067822    0.290913   \n",
       "3            0.533745    0.572964      0.619749         0.161855    1.022297   \n",
       "4            1.235379    0.765526      1.044541         0.094333    0.350172   \n",
       "5            0.548780    1.295122      1.079268         0.413415    0.201220   \n",
       "6            0.240100    0.748791      1.081706         0.213223    0.383444   \n",
       "\n",
       "           team_Pokes  team_Engages  team_Splitpushs  early_game  mid_game  \\\n",
       "team_comp                                                                    \n",
       "0            0.794118      0.422178         0.007855    0.925100  1.679028   \n",
       "1            0.261789      1.590278         0.003391    1.242087  1.800226   \n",
       "2            0.594018      0.543723         0.039055    1.514384  1.268242   \n",
       "3            1.156878      0.854669         0.077842    2.372686  1.680470   \n",
       "4            0.474742      0.981894         0.053413    1.077494  3.089625   \n",
       "5            0.451220      0.806098         0.204878    1.113415  1.926829   \n",
       "6            0.554202      0.741444         1.037090    1.001075  1.802544   \n",
       "\n",
       "           late_game  no_damage_type  \n",
       "team_comp                             \n",
       "0           2.395871             0.0  \n",
       "1           1.957687             0.0  \n",
       "2           2.217375             0.0  \n",
       "3           0.946845             0.0  \n",
       "4           0.832881             0.0  \n",
       "5           1.959756             1.0  \n",
       "6           2.196381             0.0  "
      ]
     },
     "execution_count": 5,
     "metadata": {},
     "output_type": "execute_result"
    }
   ],
   "source": [
    "N_clusters = 7\n",
    "match_drafts = draft_model.cluster_drafts(match_drafts, n_clusters=N_clusters)\n",
    "util.print_draft_centroids(match_drafts)"
   ]
  },
  {
   "cell_type": "markdown",
   "metadata": {},
   "source": [
    "Merge information from draft clusters and player model win probabilities, and the list of composition that played against each in the dataset."
   ]
  },
  {
   "cell_type": "code",
   "execution_count": 6,
   "metadata": {},
   "outputs": [],
   "source": [
    "\n",
    "full_data, list_of_comp_diffs = util.merge_team_and_draft(match_data, match_drafts, N_clusters)"
   ]
  },
  {
   "cell_type": "markdown",
   "metadata": {},
   "source": [
    "Train draft agnostic control model and final post draft model"
   ]
  },
  {
   "cell_type": "code",
   "execution_count": 7,
   "metadata": {},
   "outputs": [
    {
     "name": "stdout",
     "output_type": "stream",
     "text": [
      "Optimization terminated successfully    (Exit mode 0)\n",
      "            Current function value: 0.6179458645442352\n",
      "            Iterations: 99\n",
      "            Function evaluations: 100\n",
      "            Gradient evaluations: 99\n"
     ]
    }
   ],
   "source": [
    "train, test = tts(full_data, test_size=0.3, random_state=0)\n",
    "draft_agnostic_model = final_model.train_draft_agnostic_model(train)\n",
    "post_draft_model = final_model.train_post_draft_model(train, list_of_comp_diffs, full_data)"
   ]
  },
  {
   "cell_type": "code",
   "execution_count": 8,
   "metadata": {},
   "outputs": [
    {
     "data": {
      "text/html": [
       "<div>\n",
       "<style scoped>\n",
       "    .dataframe tbody tr th:only-of-type {\n",
       "        vertical-align: middle;\n",
       "    }\n",
       "\n",
       "    .dataframe tbody tr th {\n",
       "        vertical-align: top;\n",
       "    }\n",
       "\n",
       "    .dataframe thead th {\n",
       "        text-align: right;\n",
       "    }\n",
       "</style>\n",
       "<table border=\"1\" class=\"dataframe\">\n",
       "  <thead>\n",
       "    <tr style=\"text-align: right;\">\n",
       "      <th></th>\n",
       "      <th>teamname</th>\n",
       "      <th>opponent</th>\n",
       "      <th>result</th>\n",
       "      <th>draft_agnostic_win_prob</th>\n",
       "      <th>post_draft_win_prob</th>\n",
       "      <th>draft_diff</th>\n",
       "    </tr>\n",
       "  </thead>\n",
       "  <tbody>\n",
       "    <tr>\n",
       "      <th>0</th>\n",
       "      <td>ROX Tigers</td>\n",
       "      <td>KT Rolster</td>\n",
       "      <td>0</td>\n",
       "      <td>0.408006</td>\n",
       "      <td>0.277824</td>\n",
       "      <td>-0.130182</td>\n",
       "    </tr>\n",
       "    <tr>\n",
       "      <th>1</th>\n",
       "      <td>KT Rolster</td>\n",
       "      <td>ROX Tigers</td>\n",
       "      <td>1</td>\n",
       "      <td>0.591994</td>\n",
       "      <td>0.722176</td>\n",
       "      <td>0.130182</td>\n",
       "    </tr>\n",
       "    <tr>\n",
       "      <th>2</th>\n",
       "      <td>Longzhu Gaming</td>\n",
       "      <td>Samsung Galaxy</td>\n",
       "      <td>1</td>\n",
       "      <td>0.605627</td>\n",
       "      <td>0.636191</td>\n",
       "      <td>0.030564</td>\n",
       "    </tr>\n",
       "    <tr>\n",
       "      <th>3</th>\n",
       "      <td>Samsung Galaxy</td>\n",
       "      <td>Longzhu Gaming</td>\n",
       "      <td>0</td>\n",
       "      <td>0.394373</td>\n",
       "      <td>0.363809</td>\n",
       "      <td>-0.030564</td>\n",
       "    </tr>\n",
       "    <tr>\n",
       "      <th>4</th>\n",
       "      <td>bbq Olivers</td>\n",
       "      <td>MVP</td>\n",
       "      <td>0</td>\n",
       "      <td>0.325416</td>\n",
       "      <td>0.391558</td>\n",
       "      <td>0.066142</td>\n",
       "    </tr>\n",
       "  </tbody>\n",
       "</table>\n",
       "</div>"
      ],
      "text/plain": [
       "         teamname        opponent  result  draft_agnostic_win_prob  \\\n",
       "0      ROX Tigers      KT Rolster       0                 0.408006   \n",
       "1      KT Rolster      ROX Tigers       1                 0.591994   \n",
       "2  Longzhu Gaming  Samsung Galaxy       1                 0.605627   \n",
       "3  Samsung Galaxy  Longzhu Gaming       0                 0.394373   \n",
       "4     bbq Olivers             MVP       0                 0.325416   \n",
       "\n",
       "   post_draft_win_prob  draft_diff  \n",
       "0             0.277824   -0.130182  \n",
       "1             0.722176    0.130182  \n",
       "2             0.636191    0.030564  \n",
       "3             0.363809   -0.030564  \n",
       "4             0.391558    0.066142  "
      ]
     },
     "execution_count": 8,
     "metadata": {},
     "output_type": "execute_result"
    }
   ],
   "source": [
    "\n",
    "final_model.predict_with_model(full_data, draft_agnostic_model, \"draft_agnostic\")\n",
    "final_model.predict_with_model(full_data, post_draft_model, \"post_draft\")\n",
    "\n",
    "# How much did a team improve their win probability through draft\n",
    "full_data[\"draft_diff\"] = full_data[\"post_draft_win_prob\"] - full_data[\"draft_agnostic_win_prob\"]\n",
    "\n",
    "util.print_win_prob_model_outputs(full_data)"
   ]
  },
  {
   "cell_type": "markdown",
   "metadata": {},
   "source": [
    "Print model statistics"
   ]
  },
  {
   "cell_type": "code",
   "execution_count": 9,
   "metadata": {},
   "outputs": [
    {
     "name": "stdout",
     "output_type": "stream",
     "text": [
      "draft_agnostic Brier score: \n",
      "  0.23194302901675257\n",
      "\n",
      "   draft_agnostic test accurary:\n",
      "  0.6148001973359645\n",
      "  \n",
      "--------------------------\n",
      "post_draft Brier score: \n",
      "  0.2153492244404107\n",
      "\n",
      "   post_draft test accurary:\n",
      "  0.6548593981253084\n",
      "  \n"
     ]
    }
   ],
   "source": [
    "# Using the same random state gives the same test train split\n",
    "# We need to do this as the original model does not have the normalised win probs for each side of the match\n",
    "train, test = tts(full_data, test_size=0.3, random_state=0)\n",
    "\n",
    "def print_stats(model_name):\n",
    "  print(f\"\"\"{model_name} Brier score: \n",
    "  {brier_score(test['result'], test[f'{model_name}_win_prob'])}\\n\n",
    "   {model_name} test accurary:\n",
    "  {acc_score(test['result'], round(test[f'{model_name}_win_prob']))}\n",
    "  \"\"\")\n",
    "\n",
    "print_stats(\"draft_agnostic\")\n",
    "print(\"--------------------------\")\n",
    "print_stats(\"post_draft\")\n",
    "\n",
    "# Split into functions?\n",
    "\n",
    "# TODO make it so the actual data already has this without a merge\n",
    "merged_data = full_data.merge(match_data[[\"gameid\",\"teamname\", \"bot_lead_at_15\", \"top_lead_at_15\",\"mid_lead_at_15\"]], how=\"inner\", on=[\"gameid\", \"teamname\"])\n",
    "\n",
    "post_draft_average = np.average([\n",
    "brier_score(merged_data[\"mid_lead_at_15\"], merged_data[\"post_draft_mid_lead_prob\"]),\n",
    "brier_score(merged_data[\"top_lead_at_15\"], merged_data[\"post_draft_top_lead_prob\"]),\n",
    "brier_score(merged_data[\"bot_lead_at_15\"], merged_data[\"post_draft_bot_lead_prob\"])])\n",
    "\n",
    "draft_agnostic_average = np.average([\n",
    "brier_score(merged_data[\"mid_lead_at_15\"], merged_data[\"draft_agnostic_mid_lead_prob\"]),\n",
    "brier_score(merged_data[\"top_lead_at_15\"], merged_data[\"draft_agnostic_top_lead_prob\"]),\n",
    "brier_score(merged_data[\"bot_lead_at_15\"], merged_data[\"draft_agnostic_bot_lead_prob\"])])\n",
    "\n",
    "post_draft_acc_average = np.average([\n",
    "acc_score(merged_data[\"mid_lead_at_15\"], round(merged_data[\"post_draft_mid_lead_prob\"])),\n",
    "acc_score(merged_data[\"top_lead_at_15\"], round(merged_data[\"post_draft_top_lead_prob\"])),\n",
    "acc_score(merged_data[\"bot_lead_at_15\"], round(merged_data[\"post_draft_bot_lead_prob\"]))])\n",
    "\n",
    "draft_agnostic_acc_average = np.average([\n",
    "acc_score(merged_data[\"mid_lead_at_15\"], round(merged_data[\"draft_agnostic_mid_lead_prob\"])),\n",
    "acc_score(merged_data[\"top_lead_at_15\"], round(merged_data[\"draft_agnostic_top_lead_prob\"])),\n",
    "acc_score(merged_data[\"bot_lead_at_15\"], round(merged_data[\"draft_agnostic_bot_lead_prob\"]))])\n",
    "\n",
    "print(f\"Draft agnostic acc {draft_agnostic_acc_average} \\\n",
    "        Post draft acc {post_draft_acc_average}\")\n",
    "\n",
    "print(f\"Draft agnostic {draft_agnostic_average} \\\n",
    "        Post draft {post_draft_average}\")"
   ]
  },
  {
   "cell_type": "markdown",
   "metadata": {},
   "source": [
    "Import Bet 365 odds and adjust for the hold"
   ]
  },
  {
   "cell_type": "code",
   "execution_count": 10,
   "metadata": {},
   "outputs": [
    {
     "name": "stdout",
     "output_type": "stream",
     "text": [
      "After adjusting for hold:\n",
      "\n",
      "Bookie Brier score:\n",
      "0.22284981228499326\n",
      "\n",
      "Bookie accuracy\n",
      "0.6435495898583147\n",
      "\n"
     ]
    }
   ],
   "source": [
    "bookie_odds = pd.read_csv(\"data/b365_odds.tsv\", sep='\\t')\n",
    "bookie_odds[\"implied_win_prob\"] = bookie_odds['implied_h_prob'] / (bookie_odds['implied_h_prob'] + bookie_odds['implied_a_prob'])\n",
    "print(\"After adjusting for hold:\")\n",
    "print(f\"\"\"\n",
    "Bookie Brier score:\n",
    "{brier_score(bookie_odds['result'], bookie_odds['implied_win_prob'])}\\n\n",
    "Bookie accuracy\n",
    "{acc_score(bookie_odds['result'], round(bookie_odds['implied_win_prob']))}\n",
    "\"\"\"\n",
    ")"
   ]
  },
  {
   "cell_type": "markdown",
   "metadata": {},
   "source": [
    "Ouput the calibration plot of the post draft model"
   ]
  },
  {
   "cell_type": "code",
   "execution_count": 11,
   "metadata": {},
   "outputs": [
    {
     "data": {
      "image/png": "[encoded data removed]",
      "text/plain": [
       "<Figure size 432x288 with 1 Axes>"
      ]
     },
     "metadata": {
      "needs_background": "light"
     },
     "output_type": "display_data"
    }
   ],
   "source": [
    "util.calibration_plot(full_data)"
   ]
  },
  {
   "cell_type": "markdown",
   "metadata": {},
   "source": [
    "Output which teams in the LoL European Championship added the most expected wins as a result of draft through the 2022 Spring and Summer split"
   ]
  },
  {
   "cell_type": "code",
   "execution_count": 12,
   "metadata": {},
   "outputs": [
    {
     "data": {
      "text/plain": [
       "Text(0.5, 1.0, 'LoL European Championship Cumulative Expected Wins Added Through Draft')"
      ]
     },
     "execution_count": 12,
     "metadata": {},
     "output_type": "execute_result"
    },
    {
     "data": {
      "image/png": "[encoded data removed]",
      "text/plain": [
       "<Figure size 432x288 with 1 Axes>"
      ]
     },
     "metadata": {
      "needs_background": "light"
     },
     "output_type": "display_data"
    }
   ],
   "source": [
    "teams = {'G2 Esports' :'black', 'Fnatic':'orange', 'Misfits Gaming': 'red'}\n",
    "ax = util.plot_cumulative_expected_wins_added_by_draft(full_data, league='LEC', teams=teams)\n",
    "ax.set_title(\"LoL European Championship Cumulative Expected Wins Added Through Draft\")"
   ]
  },
  {
   "cell_type": "code",
   "execution_count": 13,
   "metadata": {},
   "outputs": [
    {
     "name": "stdout",
     "output_type": "stream",
     "text": [
      "teamcomp                 0     1     2     3     4    5     6\n",
      "teamname                                                     \n",
      "100 Thieves           16.0  19.0  18.0  20.0  25.0  NaN   8.0\n",
      "Cloud9                14.0  23.0  20.0  16.0  16.0  2.0  19.0\n",
      "Counter Logic Gaming   8.0  21.0  16.0  11.0  18.0  1.0  17.0\n",
      "Dignitas              13.0  20.0  11.0  17.0  17.0  1.0  14.0\n",
      "Evil Geniuses         16.0  26.0  14.0  14.0  27.0  NaN  10.0\n",
      "FlyQuest              21.0  20.0  17.0  11.0  14.0  NaN  13.0\n",
      "Golden Guardians      13.0  25.0  14.0   6.0  19.0  1.0  16.0\n",
      "Immortals              8.0  26.0  14.0   8.0  18.0  1.0  17.0\n",
      "TSM                    8.0  34.0  21.0  14.0  14.0  NaN   7.0\n",
      "Team Liquid           14.0  29.0  13.0  10.0  11.0  3.0  30.0\n"
     ]
    }
   ],
   "source": [
    "recent_LCS_games = full_data.query(\"league == 'LCS' & date > '2021-01-01'\").copy()\n",
    "\n",
    "new = recent_LCS_games.iloc[:, 14:63].idxmax(axis=1)\n",
    "comp = new.str.split(\"_v_\").to_list()\n",
    "comp = [int(x[0].replace(\"team_comp\", \"\")) for x in comp]\n",
    "recent_LCS_games['teamcomp'] = comp\n",
    "tc_games = recent_LCS_games.groupby(\"teamname\", as_index=True)[\"teamcomp\"].value_counts().to_frame(\"tc_count\").reset_index()   #[\"teamcomp\"].value_counts()\n",
    "team_games = tc_games.pivot(index=\"teamname\", columns=\"teamcomp\", values=\"tc_count\")\n",
    "print(team_games.head(10))"
   ]
  },
  {
   "cell_type": "code",
   "execution_count": 14,
   "metadata": {},
   "outputs": [
    {
     "data": {
      "text/plain": [
       "2.255103654320168"
      ]
     },
     "execution_count": 14,
     "metadata": {},
     "output_type": "execute_result"
    }
   ],
   "source": [
    "# TL different from the mean\n",
    "(team_games[6][\"Team Liquid\"] - team_games[6].mean()) / team_games[6].std()\n"
   ]
  },
  {
   "cell_type": "code",
   "execution_count": 15,
   "metadata": {},
   "outputs": [],
   "source": [
    "# TODO this can be a little better lol\n",
    "j = 1\n",
    "for i, row in team_games.fillna(0).iterrows():\n",
    "    if i != \"Team Liquid\": \n",
    "        continue\n",
    "    labels = [str(x) for x in range(7)]\n",
    "    tl_games = row\n",
    "\n",
    "all_games_simple = team_games.sum(axis=0)\n",
    "# TODO get the n numbers from the sums"
   ]
  },
  {
   "cell_type": "code",
   "execution_count": 16,
   "metadata": {},
   "outputs": [
    {
     "data": {
      "text/plain": [
       "Text(0.5, 0.98, 'Relative frequency of Team Draft clusters in the LCS')"
      ]
     },
     "execution_count": 16,
     "metadata": {},
     "output_type": "execute_result"
    },
    {
     "data": {
      "image/png": "[encoded data removed]",
      "text/plain": [
       "<Figure size 662.4x360 with 1 Axes>"
      ]
     },
     "metadata": {
      "needs_background": "light"
     },
     "output_type": "display_data"
    }
   ],
   "source": [
    "# put this into a function TODO\n",
    "category_names = [\"Cluster 0\", \"Cluster 1\", \"Cluster 2\", \"Cluster 3\", \"Cluster 4\", \"Cluster 5\", \"Cluster 6\"]\n",
    "results = {\n",
    "    'All LCS teams games\\nn=998': all_games_simple,\n",
    "    'Team Liquid games\\nn=110': tl_games\n",
    "}\n",
    "\n",
    "labels = list(results.keys())\n",
    "data = np.array(list(results.values()))\n",
    "totals = data.sum(axis=1)\n",
    "data[0] /= totals[0]\n",
    "data[1] /= totals[1]\n",
    "data_cum = data.cumsum(axis=1)\n",
    "\n",
    "\n",
    "fig, ax = plt.subplots(figsize=(9.2, 5))\n",
    "ax.invert_yaxis()\n",
    "ax.xaxis.set_visible(False)\n",
    "ax.set_xlim(0, 1)\n",
    "\n",
    "for i, colname in enumerate(category_names):\n",
    "    widths = data[:, i]\n",
    "    starts = data_cum[:, i] - widths\n",
    "    rects = ax.barh(labels, widths, left=starts, height=0.5,\n",
    "                    label=colname)\n",
    "\n",
    "    ax.bar_label(rects, labels=[str(round(100*x,1)) + \"%\" for x in widths], label_type='center', fmt=\"%.2f\")\n",
    "    ax.legend(ncol=len(category_names), bbox_to_anchor=(0, 1), loc='lower left', fontsize='small')\n",
    "\n",
    "fig.suptitle(\"Relative frequency of Team Draft clusters in the LCS\")"
   ]
  },
  {
   "cell_type": "code",
   "execution_count": 17,
   "metadata": {},
   "outputs": [
    {
     "data": {
      "text/plain": [
       "Text(0.5, 1.0, 'LoL Championship Series Cumulative Expected Wins Added Through Draft')"
      ]
     },
     "execution_count": 17,
     "metadata": {},
     "output_type": "execute_result"
    },
    {
     "data": {
      "image/png": "[encoded data removed]",
      "text/plain": [
       "<Figure size 432x288 with 1 Axes>"
      ]
     },
     "metadata": {
      "needs_background": "light"
     },
     "output_type": "display_data"
    }
   ],
   "source": [
    "teams = {'Team Liquid' :'midnightblue', '100 Thieves':'red', 'Golden Guardians': 'gold'}\n",
    "ax = util.plot_cumulative_expected_wins_added_by_draft(full_data, league='LCS', teams=teams)\n",
    "ax.set_title(\"LoL Championship Series Cumulative Expected Wins Added Through Draft\")"
   ]
  },
  {
   "cell_type": "code",
   "execution_count": 19,
   "metadata": {},
   "outputs": [
    {
     "name": "stderr",
     "output_type": "stream",
     "text": [
      "/home/alex/.local/lib/python3.8/site-packages/pandas/plotting/_matplotlib/core.py:1041: UserWarning: No data for colormapping provided via 'c'. Parameters 'cmap' will be ignored\n",
      "  scatter = ax.scatter(\n"
     ]
    },
    {
     "ename": "AttributeError",
     "evalue": "'AxesSubplot' object has no attribute 'is_first_col'",
     "output_type": "error",
     "traceback": [
      "\u001b[0;31m---------------------------------------------------------------------------\u001b[0m",
      "\u001b[0;31mAttributeError\u001b[0m                            Traceback (most recent call last)",
      "\u001b[0;32m<ipython-input-19-3cc02ddee617>\u001b[0m in \u001b[0;36m<module>\u001b[0;34m\u001b[0m\n\u001b[1;32m     11\u001b[0m \u001b[0mfig\u001b[0m\u001b[0;34m,\u001b[0m \u001b[0max\u001b[0m \u001b[0;34m=\u001b[0m \u001b[0mplt\u001b[0m\u001b[0;34m.\u001b[0m\u001b[0msubplots\u001b[0m\u001b[0;34m(\u001b[0m\u001b[0;36m1\u001b[0m\u001b[0;34m,\u001b[0m \u001b[0;36m3\u001b[0m\u001b[0;34m,\u001b[0m \u001b[0mfigsize\u001b[0m\u001b[0;34m=\u001b[0m\u001b[0;34m(\u001b[0m\u001b[0;36m21\u001b[0m\u001b[0;34m,\u001b[0m\u001b[0;36m7\u001b[0m\u001b[0;34m)\u001b[0m\u001b[0;34m)\u001b[0m\u001b[0;34m\u001b[0m\u001b[0;34m\u001b[0m\u001b[0m\n\u001b[1;32m     12\u001b[0m \u001b[0;34m\u001b[0m\u001b[0m\n\u001b[0;32m---> 13\u001b[0;31m \u001b[0mrecent_LCS_games\u001b[0m\u001b[0;34m.\u001b[0m\u001b[0mplot\u001b[0m\u001b[0;34m(\u001b[0m\u001b[0max\u001b[0m\u001b[0;34m=\u001b[0m\u001b[0max\u001b[0m\u001b[0;34m[\u001b[0m\u001b[0;36m0\u001b[0m\u001b[0;34m]\u001b[0m\u001b[0;34m,\u001b[0m \u001b[0mkind\u001b[0m\u001b[0;34m=\u001b[0m\u001b[0;34m'scatter'\u001b[0m\u001b[0;34m,\u001b[0m \u001b[0mx\u001b[0m\u001b[0;34m=\u001b[0m\u001b[0;34m'draft_agnostic_bot_lead_prob'\u001b[0m\u001b[0;34m,\u001b[0m \u001b[0my\u001b[0m\u001b[0;34m=\u001b[0m\u001b[0;34m\"post_draft_bot_lead_prob\"\u001b[0m\u001b[0;34m)\u001b[0m\u001b[0;34m\u001b[0m\u001b[0;34m\u001b[0m\u001b[0m\n\u001b[0m\u001b[1;32m     14\u001b[0m \u001b[0mrecent_LCS_games\u001b[0m\u001b[0;34m.\u001b[0m\u001b[0mplot\u001b[0m\u001b[0;34m(\u001b[0m\u001b[0max\u001b[0m\u001b[0;34m=\u001b[0m\u001b[0max\u001b[0m\u001b[0;34m[\u001b[0m\u001b[0;36m1\u001b[0m\u001b[0;34m]\u001b[0m\u001b[0;34m,\u001b[0m \u001b[0mkind\u001b[0m\u001b[0;34m=\u001b[0m\u001b[0;34m'scatter'\u001b[0m\u001b[0;34m,\u001b[0m \u001b[0mx\u001b[0m\u001b[0;34m=\u001b[0m\u001b[0;34m'draft_agnostic_mid_lead_prob'\u001b[0m\u001b[0;34m,\u001b[0m \u001b[0my\u001b[0m\u001b[0;34m=\u001b[0m\u001b[0;34m\"post_draft_mid_lead_prob\"\u001b[0m\u001b[0;34m)\u001b[0m\u001b[0;34m\u001b[0m\u001b[0;34m\u001b[0m\u001b[0m\n\u001b[1;32m     15\u001b[0m \u001b[0mrecent_LCS_games\u001b[0m\u001b[0;34m.\u001b[0m\u001b[0mplot\u001b[0m\u001b[0;34m(\u001b[0m\u001b[0max\u001b[0m\u001b[0;34m=\u001b[0m\u001b[0max\u001b[0m\u001b[0;34m[\u001b[0m\u001b[0;36m2\u001b[0m\u001b[0;34m]\u001b[0m\u001b[0;34m,\u001b[0m \u001b[0mkind\u001b[0m\u001b[0;34m=\u001b[0m\u001b[0;34m'scatter'\u001b[0m\u001b[0;34m,\u001b[0m \u001b[0mx\u001b[0m\u001b[0;34m=\u001b[0m\u001b[0;34m'draft_agnostic_top_lead_prob'\u001b[0m\u001b[0;34m,\u001b[0m \u001b[0my\u001b[0m\u001b[0;34m=\u001b[0m\u001b[0;34m\"post_draft_top_lead_prob\"\u001b[0m\u001b[0;34m)\u001b[0m\u001b[0;34m\u001b[0m\u001b[0;34m\u001b[0m\u001b[0m\n",
      "\u001b[0;32m~/.local/lib/python3.8/site-packages/pandas/plotting/_core.py\u001b[0m in \u001b[0;36m__call__\u001b[0;34m(self, *args, **kwargs)\u001b[0m\n\u001b[1;32m    898\u001b[0m         \u001b[0;32mif\u001b[0m \u001b[0mkind\u001b[0m \u001b[0;32min\u001b[0m \u001b[0mself\u001b[0m\u001b[0;34m.\u001b[0m\u001b[0m_dataframe_kinds\u001b[0m\u001b[0;34m:\u001b[0m\u001b[0;34m\u001b[0m\u001b[0;34m\u001b[0m\u001b[0m\n\u001b[1;32m    899\u001b[0m             \u001b[0;32mif\u001b[0m \u001b[0misinstance\u001b[0m\u001b[0;34m(\u001b[0m\u001b[0mdata\u001b[0m\u001b[0;34m,\u001b[0m \u001b[0mABCDataFrame\u001b[0m\u001b[0;34m)\u001b[0m\u001b[0;34m:\u001b[0m\u001b[0;34m\u001b[0m\u001b[0;34m\u001b[0m\u001b[0m\n\u001b[0;32m--> 900\u001b[0;31m                 \u001b[0;32mreturn\u001b[0m \u001b[0mplot_backend\u001b[0m\u001b[0;34m.\u001b[0m\u001b[0mplot\u001b[0m\u001b[0;34m(\u001b[0m\u001b[0mdata\u001b[0m\u001b[0;34m,\u001b[0m \u001b[0mx\u001b[0m\u001b[0;34m=\u001b[0m\u001b[0mx\u001b[0m\u001b[0;34m,\u001b[0m \u001b[0my\u001b[0m\u001b[0;34m=\u001b[0m\u001b[0my\u001b[0m\u001b[0;34m,\u001b[0m \u001b[0mkind\u001b[0m\u001b[0;34m=\u001b[0m\u001b[0mkind\u001b[0m\u001b[0;34m,\u001b[0m \u001b[0;34m**\u001b[0m\u001b[0mkwargs\u001b[0m\u001b[0;34m)\u001b[0m\u001b[0;34m\u001b[0m\u001b[0;34m\u001b[0m\u001b[0m\n\u001b[0m\u001b[1;32m    901\u001b[0m             \u001b[0;32melse\u001b[0m\u001b[0;34m:\u001b[0m\u001b[0;34m\u001b[0m\u001b[0;34m\u001b[0m\u001b[0m\n\u001b[1;32m    902\u001b[0m                 \u001b[0;32mraise\u001b[0m \u001b[0mValueError\u001b[0m\u001b[0;34m(\u001b[0m\u001b[0;34mf\"plot kind {kind} can only be used for data frames\"\u001b[0m\u001b[0;34m)\u001b[0m\u001b[0;34m\u001b[0m\u001b[0;34m\u001b[0m\u001b[0m\n",
      "\u001b[0;32m~/.local/lib/python3.8/site-packages/pandas/plotting/_matplotlib/__init__.py\u001b[0m in \u001b[0;36mplot\u001b[0;34m(data, kind, **kwargs)\u001b[0m\n\u001b[1;32m     59\u001b[0m             \u001b[0mkwargs\u001b[0m\u001b[0;34m[\u001b[0m\u001b[0;34m\"ax\"\u001b[0m\u001b[0;34m]\u001b[0m \u001b[0;34m=\u001b[0m \u001b[0mgetattr\u001b[0m\u001b[0;34m(\u001b[0m\u001b[0max\u001b[0m\u001b[0;34m,\u001b[0m \u001b[0;34m\"left_ax\"\u001b[0m\u001b[0;34m,\u001b[0m \u001b[0max\u001b[0m\u001b[0;34m)\u001b[0m\u001b[0;34m\u001b[0m\u001b[0;34m\u001b[0m\u001b[0m\n\u001b[1;32m     60\u001b[0m     \u001b[0mplot_obj\u001b[0m \u001b[0;34m=\u001b[0m \u001b[0mPLOT_CLASSES\u001b[0m\u001b[0;34m[\u001b[0m\u001b[0mkind\u001b[0m\u001b[0;34m]\u001b[0m\u001b[0;34m(\u001b[0m\u001b[0mdata\u001b[0m\u001b[0;34m,\u001b[0m \u001b[0;34m**\u001b[0m\u001b[0mkwargs\u001b[0m\u001b[0;34m)\u001b[0m\u001b[0;34m\u001b[0m\u001b[0;34m\u001b[0m\u001b[0m\n\u001b[0;32m---> 61\u001b[0;31m     \u001b[0mplot_obj\u001b[0m\u001b[0;34m.\u001b[0m\u001b[0mgenerate\u001b[0m\u001b[0;34m(\u001b[0m\u001b[0;34m)\u001b[0m\u001b[0;34m\u001b[0m\u001b[0;34m\u001b[0m\u001b[0m\n\u001b[0m\u001b[1;32m     62\u001b[0m     \u001b[0mplot_obj\u001b[0m\u001b[0;34m.\u001b[0m\u001b[0mdraw\u001b[0m\u001b[0;34m(\u001b[0m\u001b[0;34m)\u001b[0m\u001b[0;34m\u001b[0m\u001b[0;34m\u001b[0m\u001b[0m\n\u001b[1;32m     63\u001b[0m     \u001b[0;32mreturn\u001b[0m \u001b[0mplot_obj\u001b[0m\u001b[0;34m.\u001b[0m\u001b[0mresult\u001b[0m\u001b[0;34m\u001b[0m\u001b[0;34m\u001b[0m\u001b[0m\n",
      "\u001b[0;32m~/.local/lib/python3.8/site-packages/pandas/plotting/_matplotlib/core.py\u001b[0m in \u001b[0;36mgenerate\u001b[0;34m(self)\u001b[0m\n\u001b[1;32m    281\u001b[0m         \u001b[0mself\u001b[0m\u001b[0;34m.\u001b[0m\u001b[0m_add_table\u001b[0m\u001b[0;34m(\u001b[0m\u001b[0;34m)\u001b[0m\u001b[0;34m\u001b[0m\u001b[0;34m\u001b[0m\u001b[0m\n\u001b[1;32m    282\u001b[0m         \u001b[0mself\u001b[0m\u001b[0;34m.\u001b[0m\u001b[0m_make_legend\u001b[0m\u001b[0;34m(\u001b[0m\u001b[0;34m)\u001b[0m\u001b[0;34m\u001b[0m\u001b[0;34m\u001b[0m\u001b[0m\n\u001b[0;32m--> 283\u001b[0;31m         \u001b[0mself\u001b[0m\u001b[0;34m.\u001b[0m\u001b[0m_adorn_subplots\u001b[0m\u001b[0;34m(\u001b[0m\u001b[0;34m)\u001b[0m\u001b[0;34m\u001b[0m\u001b[0;34m\u001b[0m\u001b[0m\n\u001b[0m\u001b[1;32m    284\u001b[0m \u001b[0;34m\u001b[0m\u001b[0m\n\u001b[1;32m    285\u001b[0m         \u001b[0;32mfor\u001b[0m \u001b[0max\u001b[0m \u001b[0;32min\u001b[0m \u001b[0mself\u001b[0m\u001b[0;34m.\u001b[0m\u001b[0maxes\u001b[0m\u001b[0;34m:\u001b[0m\u001b[0;34m\u001b[0m\u001b[0;34m\u001b[0m\u001b[0m\n",
      "\u001b[0;32m~/.local/lib/python3.8/site-packages/pandas/plotting/_matplotlib/core.py\u001b[0m in \u001b[0;36m_adorn_subplots\u001b[0;34m(self)\u001b[0m\n\u001b[1;32m    483\u001b[0m             \u001b[0mall_axes\u001b[0m \u001b[0;34m=\u001b[0m \u001b[0mself\u001b[0m\u001b[0;34m.\u001b[0m\u001b[0m_get_subplots\u001b[0m\u001b[0;34m(\u001b[0m\u001b[0;34m)\u001b[0m\u001b[0;34m\u001b[0m\u001b[0;34m\u001b[0m\u001b[0m\n\u001b[1;32m    484\u001b[0m             \u001b[0mnrows\u001b[0m\u001b[0;34m,\u001b[0m \u001b[0mncols\u001b[0m \u001b[0;34m=\u001b[0m \u001b[0mself\u001b[0m\u001b[0;34m.\u001b[0m\u001b[0m_get_axes_layout\u001b[0m\u001b[0;34m(\u001b[0m\u001b[0;34m)\u001b[0m\u001b[0;34m\u001b[0m\u001b[0;34m\u001b[0m\u001b[0m\n\u001b[0;32m--> 485\u001b[0;31m             handle_shared_axes(\n\u001b[0m\u001b[1;32m    486\u001b[0m                 \u001b[0maxarr\u001b[0m\u001b[0;34m=\u001b[0m\u001b[0mall_axes\u001b[0m\u001b[0;34m,\u001b[0m\u001b[0;34m\u001b[0m\u001b[0;34m\u001b[0m\u001b[0m\n\u001b[1;32m    487\u001b[0m                 \u001b[0mnplots\u001b[0m\u001b[0;34m=\u001b[0m\u001b[0mlen\u001b[0m\u001b[0;34m(\u001b[0m\u001b[0mall_axes\u001b[0m\u001b[0;34m)\u001b[0m\u001b[0;34m,\u001b[0m\u001b[0;34m\u001b[0m\u001b[0;34m\u001b[0m\u001b[0m\n",
      "\u001b[0;32m~/.local/lib/python3.8/site-packages/pandas/plotting/_matplotlib/tools.py\u001b[0m in \u001b[0;36mhandle_shared_axes\u001b[0;34m(axarr, nplots, naxes, nrows, ncols, sharex, sharey)\u001b[0m\n\u001b[1;32m    398\u001b[0m                 \u001b[0;31m# off as we only have labels in the first column and we always\u001b[0m\u001b[0;34m\u001b[0m\u001b[0;34m\u001b[0m\u001b[0;34m\u001b[0m\u001b[0m\n\u001b[1;32m    399\u001b[0m                 \u001b[0;31m# have a subplot there, we can skip the layout test\u001b[0m\u001b[0;34m\u001b[0m\u001b[0;34m\u001b[0m\u001b[0;34m\u001b[0m\u001b[0m\n\u001b[0;32m--> 400\u001b[0;31m                 \u001b[0;32mif\u001b[0m \u001b[0max\u001b[0m\u001b[0;34m.\u001b[0m\u001b[0mis_first_col\u001b[0m\u001b[0;34m(\u001b[0m\u001b[0;34m)\u001b[0m\u001b[0;34m:\u001b[0m\u001b[0;34m\u001b[0m\u001b[0;34m\u001b[0m\u001b[0m\n\u001b[0m\u001b[1;32m    401\u001b[0m                     \u001b[0;32mcontinue\u001b[0m\u001b[0;34m\u001b[0m\u001b[0;34m\u001b[0m\u001b[0m\n\u001b[1;32m    402\u001b[0m                 \u001b[0;32mif\u001b[0m \u001b[0msharey\u001b[0m \u001b[0;32mor\u001b[0m \u001b[0m_has_externally_shared_axis\u001b[0m\u001b[0;34m(\u001b[0m\u001b[0max\u001b[0m\u001b[0;34m,\u001b[0m \u001b[0;34m\"y\"\u001b[0m\u001b[0;34m)\u001b[0m\u001b[0;34m:\u001b[0m\u001b[0;34m\u001b[0m\u001b[0;34m\u001b[0m\u001b[0m\n",
      "\u001b[0;31mAttributeError\u001b[0m: 'AxesSubplot' object has no attribute 'is_first_col'"
     ]
    },
    {
     "data": {
      "image/png": "[encoded data removed]",
      "text/plain": [
       "<Figure size 1512x504 with 3 Axes>"
      ]
     },
     "metadata": {
      "needs_background": "light"
     },
     "output_type": "display_data"
    }
   ],
   "source": [
    "from sklearn import linear_model\n",
    "\n",
    "reg_b = linear_model.LinearRegression().fit(recent_LCS_games[['draft_agnostic_bot_lead_prob']], recent_LCS_games[['post_draft_bot_lead_prob']])\n",
    "reg_m = linear_model.LinearRegression().fit(recent_LCS_games[['draft_agnostic_mid_lead_prob']], recent_LCS_games[['post_draft_mid_lead_prob']])\n",
    "reg_t = linear_model.LinearRegression().fit(recent_LCS_games[['draft_agnostic_top_lead_prob']], recent_LCS_games[['post_draft_top_lead_prob']])\n",
    "\n",
    "r2_b = reg_b.score(recent_LCS_games[['draft_agnostic_bot_lead_prob']], recent_LCS_games[['post_draft_bot_lead_prob']])\n",
    "r2_m = reg_m.score(recent_LCS_games[['draft_agnostic_mid_lead_prob']], recent_LCS_games[['post_draft_mid_lead_prob']])\n",
    "r2_t = reg_t.score(recent_LCS_games[['draft_agnostic_top_lead_prob']], recent_LCS_games[['post_draft_top_lead_prob']])\n",
    "\n",
    "fig, ax = plt.subplots(1, 3, figsize=(21,7))\n",
    "\n",
    "recent_LCS_games.plot(ax=ax[0], kind='scatter', x='draft_agnostic_bot_lead_prob', y=\"post_draft_bot_lead_prob\")\n",
    "recent_LCS_games.plot(ax=ax[1], kind='scatter', x='draft_agnostic_mid_lead_prob', y=\"post_draft_mid_lead_prob\")\n",
    "recent_LCS_games.plot(ax=ax[2], kind='scatter', x='draft_agnostic_top_lead_prob', y=\"post_draft_top_lead_prob\")\n",
    "\n",
    "ax[0].plot((0.2,0.8), (0.2,0.8), color='orange', label=f\"R^2 = {r2_b}\")\n",
    "ax[1].plot((0.2,0.8), (0.2,0.8), color='orange', label=f\"R^2 = {r2_m}\")\n",
    "ax[2].plot((0.2,0.8), (0.2,0.8), color='orange', label=f\"R^2 = {r2_t}\")\n",
    "\n",
    "ax[0].legend()\n",
    "ax[1].legend()\n",
    "ax[2].legend()\n",
    "\n",
    "ax[0].set_title(\"Bot lane\")\n",
    "ax[1].set_title(\"Mid lane\")\n",
    "ax[2].set_title(\"Top lane\")\n",
    "\n",
    "fig.suptitle(\"Pre/post draft lead advantages\")"
   ]
  },
  {
   "cell_type": "code",
   "execution_count": 23,
   "metadata": {},
   "outputs": [
    {
     "data": {
      "image/png": "[encoded data removed]",
      "text/plain": [
       "<Figure size 432x288 with 1 Axes>"
      ]
     },
     "metadata": {
      "needs_background": "light"
     },
     "output_type": "display_data"
    }
   ],
   "source": [
    "# TODO pull into functions\n",
    "\n",
    "fig, ax = plt.subplots()\n",
    "merged_data = full_data.merge(match_data[[\"gameid\",\"teamname\", \"bot_lead_at_15\", \"top_lead_at_15\",\"mid_lead_at_15\"]], how=\"inner\", on=[\"gameid\", \"teamname\"])\n",
    "recent_EG_games = merged_data.query(\"teamname == 'Evil Geniuses' and date > '2022-01-01'\").copy()\n",
    "recent_EG_games[\"mid_wins\"] = recent_EG_games[\"mid_lead_at_15\"] - recent_EG_games[\"post_draft_mid_lead_prob\"]\n",
    "wins_above = recent_EG_games[[\"mid_wins\"]].cumsum()\n",
    "ax.plot(range(len(wins_above)), wins_above)\n",
    "\n",
    "ax.set_title(\"Jojo Mid lane wins over expected\")\n",
    "ax.set_xlabel(\"Games over 2022 season\")\n",
    "ax.set_ylabel(\"Over expected mid wins\")\n",
    "ax.grid()\n",
    "ax.axhline(0, color='r', label=\"Expected performance\")\n",
    "ax.legend();"
   ]
  }
 ],
 "metadata": {
  "kernelspec": {
   "display_name": "Python 3.8.10 64-bit",
   "language": "python",
   "name": "python3"
  },
  "language_info": {
   "codemirror_mode": {
    "name": "ipython",
    "version": 3
   },
   "file_extension": ".py",
   "mimetype": "text/x-python",
   "name": "python",
   "nbconvert_exporter": "python",
   "pygments_lexer": "ipython3",
   "version": "3.8.10"
  },
  "orig_nbformat": 4,
  "vscode": {
   "interpreter": {
    "hash": "31f2aee4e71d21fbe5cf8b01ff0e069b9275f58929596ceb00d14d90e3e16cd6"
   }
  }
 },
 "nbformat": 4,
 "nbformat_minor": 2
}
