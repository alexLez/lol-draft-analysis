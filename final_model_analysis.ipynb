{
 "cells": [
  {
   "cell_type": "code",
   "execution_count": 1,
   "metadata": {},
   "outputs": [],
   "source": [
    "import pandas as pd\n",
    "import numpy as np\n",
    "import matplotlib.pyplot as plt\n",
    "%matplotlib inline"
   ]
  },
  {
   "cell_type": "code",
   "execution_count": 41,
   "metadata": {},
   "outputs": [],
   "source": [
    "model_outputs = pd.read_csv(\"data/final_model_output.csv\")"
   ]
  },
  {
   "cell_type": "code",
   "execution_count": 45,
   "metadata": {},
   "outputs": [],
   "source": [
    "# G2 VS Misfits game 1 LEC summer playoffs upper bracket semi finals\n",
    "# model_outputs.query(\"league=='LEC' & date > '2022-01-01' & draft_diff > 0.20\")\n",
    "df = pd.DataFrame(model_outputs.iloc[33666]).transpose()\n",
    "\n",
    "# G2 comp5 - MSF comp 3\n",
    "# ('draft_agnostic_bot_lead_prob', 0.6001669664494229), ('post_draft_bot_lead_prob', 0.6358389650400617),\n",
    "# ('draft_agnostic_mid_lead_prob', 0.6166685921758286), ('post_draft_mid_lead_prob', 0.635445881988775),\n",
    "# ('draft_agnostic_top_lead_prob', 0.5609168819131201), ('post_draft_top_lead_prob', 0.6112936765169829),\n",
    "\n",
    "# MSF: mid game comp with dive\n",
    "# G2: late game comp\n",
    "# G2 Picked a scaling comp which also increased their chances of winning lane.  \n",
    "\n",
    "# G2:  Sejuani, Nocturne, Ahri, Yasuo, Senna\n",
    "# MSF: Ornn, Vi, Sylas, Sivir, Lulu\n",
    "\n",
    "\n"
   ]
  },
  {
   "cell_type": "markdown",
   "metadata": {},
   "source": [
    "| id | team_Dives | team_Tanks | team_Damages | team_Enchanters | team_Picks | team_Pokes | team_Engages | team_Splitpushs | early_game | mid_game | late_game | no_damage_type |\n",
    "|---:|-----------:|-----------:|-------------:|----------------:|-----------:|-----------:|-------------:|----------------:|-----------:|---------:|----------:|---------------:|\n",
    "|  0 |   0.548780 |   1.295122 |     1.079268 |        0.413415 |   0.201220 |   0.451220 |     0.806098 |        0.204878 |   1.113415 | 1.926829 |  1.959756 |            1.0 |\n",
    "|  1 |   0.659113 |   0.645243 |     0.587810 |        0.180309 |   0.777105 |   1.308263 |     0.762649 |        0.079508 |   2.445399 | 1.444813 |  1.109787 |            0.0 |\n",
    "|  2 |   0.522190 |   0.660606 |     1.313001 |        1.070381 |   0.293451 |   0.539785 |     0.561877 |        0.038710 |   1.488563 | 1.263539 |  2.247898 |            0.0 |\n",
    "|  3 |   0.998295 |   0.694970 |     1.017391 |        0.096675 |   0.545780 |   0.462234 |     1.133333 |        0.051321 |   1.066837 | 3.207502 |  0.725661 |            0.0 |\n",
    "|  4 |   0.327380 |   1.926278 |     1.241307 |        0.052252 |   0.286719 |   0.740072 |     0.415542 |        0.010450 |   0.836975 | 1.836215 |  2.326810 |            0.0 |\n",
    "|  5 |   0.409686 |   0.502618 |     2.028959 |        0.012435 |   0.302029 |   0.250164 |     1.492965 |        0.001145 |   1.275687 | 1.659031 |  2.065281 |            0.0 |\n",
    "|  6 |   0.248384 |   0.745330 |     1.085309 |        0.210848 |   0.389188 |   0.542205 |     0.741559 |        1.037177 |   1.000180 | 1.811243 |  2.188578 |            0.0 |"
   ]
  },
  {
   "cell_type": "code",
   "execution_count": 46,
   "metadata": {},
   "outputs": [
    {
     "name": "stdout",
     "output_type": "stream",
     "text": [
      "[('gameid', '2022-08-27 13:57:241839LEC'), ('teamname', 'G2 Esports'), ('opponent', 'Misfits Gaming'), ('date', '2022-08-27 13:57:24'), ('league', 'LEC'), ('result', 1), ('side', 1), ('elo_diff', 3.673384639961455), ('draft_agnostic_bot_lead_prob', 0.6001669664494229), ('draft_agnostic_mid_lead_prob', 0.6166685921758286), ('draft_agnostic_top_lead_prob', 0.5609168819131201), ('post_draft_bot_lead_prob', 0.6358389650400617), ('post_draft_mid_lead_prob', 0.635445881988775), ('post_draft_top_lead_prob', 0.6112936765169829), ('team_comp0_v_opp_comp0', 0), ('team_comp0_v_opp_comp1', 0), ('team_comp0_v_opp_comp2', 0), ('team_comp0_v_opp_comp3', 0), ('team_comp0_v_opp_comp4', 0), ('team_comp0_v_opp_comp5', 0), ('team_comp0_v_opp_comp6', 0), ('team_comp1_v_opp_comp0', 0), ('team_comp1_v_opp_comp1', 0), ('team_comp1_v_opp_comp2', 0), ('team_comp1_v_opp_comp3', 0), ('team_comp1_v_opp_comp4', 1), ('team_comp1_v_opp_comp5', 0), ('team_comp1_v_opp_comp6', 0), ('team_comp2_v_opp_comp0', 0), ('team_comp2_v_opp_comp1', 0), ('team_comp2_v_opp_comp2', 0), ('team_comp2_v_opp_comp3', 0), ('team_comp2_v_opp_comp4', 0), ('team_comp2_v_opp_comp5', 0), ('team_comp2_v_opp_comp6', 0), ('team_comp3_v_opp_comp0', 0), ('team_comp3_v_opp_comp1', 0), ('team_comp3_v_opp_comp2', 0), ('team_comp3_v_opp_comp3', 0), ('team_comp3_v_opp_comp4', 0), ('team_comp3_v_opp_comp5', 0), ('team_comp3_v_opp_comp6', 0), ('team_comp4_v_opp_comp0', 0), ('team_comp4_v_opp_comp1', -1), ('team_comp4_v_opp_comp2', 0), ('team_comp4_v_opp_comp3', 0), ('team_comp4_v_opp_comp4', 0), ('team_comp4_v_opp_comp5', 0), ('team_comp4_v_opp_comp6', 0), ('team_comp5_v_opp_comp0', 0), ('team_comp5_v_opp_comp1', 0), ('team_comp5_v_opp_comp2', 0), ('team_comp5_v_opp_comp3', 0), ('team_comp5_v_opp_comp4', 0), ('team_comp5_v_opp_comp5', 0), ('team_comp5_v_opp_comp6', 0), ('team_comp6_v_opp_comp0', 0), ('team_comp6_v_opp_comp1', 0), ('team_comp6_v_opp_comp2', 0), ('team_comp6_v_opp_comp3', 0), ('team_comp6_v_opp_comp4', 0), ('team_comp6_v_opp_comp5', 0), ('team_comp6_v_opp_comp6', 0), ('draft_agnostic_win_prob', 0.5248802937859656), ('post_draft_win_prob', 0.7427791020246406), ('draft_diff', 0.217898808238675), ('q', '(0.725, 0.77]'), ('top_lead_at_15', 1.0), ('mid_lead_at_15', 1.0), ('bot_lead_at_15', 0.0)]\n"
     ]
    }
   ],
   "source": [
    "print(list(zip(df.columns, df.values[0])), sep='\\n')"
   ]
  },
  {
   "cell_type": "code",
   "execution_count": null,
   "metadata": {},
   "outputs": [],
   "source": []
  }
 ],
 "metadata": {
  "kernelspec": {
   "display_name": "Python 3.8.10 64-bit",
   "language": "python",
   "name": "python3"
  },
  "language_info": {
   "codemirror_mode": {
    "name": "ipython",
    "version": 3
   },
   "file_extension": ".py",
   "mimetype": "text/x-python",
   "name": "python",
   "nbconvert_exporter": "python",
   "pygments_lexer": "ipython3",
   "version": "3.8.10"
  },
  "orig_nbformat": 4,
  "vscode": {
   "interpreter": {
    "hash": "916dbcbb3f70747c44a77c7bcd40155683ae19c65e1c03b4aa3499c5328201f1"
   }
  }
 },
 "nbformat": 4,
 "nbformat_minor": 2
}
